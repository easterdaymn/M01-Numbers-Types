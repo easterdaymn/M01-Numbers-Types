{
 "cells": [
  {
   "cell_type": "markdown",
   "id": "8678860b-d64b-42ec-bbcc-dccb43f31494",
   "metadata": {},
   "source": [
    "## Section 3.1: How many seconds are in an hour?\r\n",
    "\r\n",
    "Use the interactive interpreter as a calculator and multiply the number of seconds in a minute (60) by the number of minutes in an hour (also 60)."
   ]
  },
  {
   "cell_type": "code",
   "execution_count": 25,
   "id": "36f85b96-af7d-4705-98cc-15af6b1746cc",
   "metadata": {},
   "outputs": [
    {
     "data": {
      "text/plain": [
       "3600"
      ]
     },
     "execution_count": 25,
     "metadata": {},
     "output_type": "execute_result"
    }
   ],
   "source": [
    "# Calculate the number of seconds in an hour\n",
    "seconds_per_minute = 60\n",
    "minutes_per_hour = 60\n",
    "seconds_in_an_hour = seconds_per_minute * minutes_per_hour\n",
    "seconds_in_an_hour\n"
   ]
  },
  {
   "cell_type": "markdown",
   "id": "503544d1-187f-45e6-8923-8da77c1d0beb",
   "metadata": {
    "jp-MarkdownHeadingCollapsed": true
   },
   "source": [
    "## Section 3.2: Assign the result from the previous task (seconds in an hour) to a variable called `seconds_per_hour`.\r\n"
   ]
  },
  {
   "cell_type": "code",
   "execution_count": 29,
   "id": "717b06b8-2598-44e7-ac39-ae464781e1aa",
   "metadata": {},
   "outputs": [
    {
     "data": {
      "text/plain": [
       "3600"
      ]
     },
     "execution_count": 29,
     "metadata": {},
     "output_type": "execute_result"
    }
   ],
   "source": [
    "# Assign the result to a variable\n",
    "seconds_per_hour = seconds_in_an_hour\n",
    "seconds_per_hour\n"
   ]
  },
  {
   "cell_type": "markdown",
   "id": "b3a3bc3d-3e5f-46bf-91ca-d7454bf002cd",
   "metadata": {
    "jp-MarkdownHeadingCollapsed": true
   },
   "source": [
    "## Section 3.3: How many seconds are in a day?\r\n",
    "\r\n",
    "Use your `seconds_per_hour` variable.\r\n"
   ]
  },
  {
   "cell_type": "code",
   "execution_count": 27,
   "id": "bdc56b8e-2641-4ce0-b9c7-30e62f41164d",
   "metadata": {},
   "outputs": [
    {
     "data": {
      "text/plain": [
       "86400"
      ]
     },
     "execution_count": 27,
     "metadata": {},
     "output_type": "execute_result"
    }
   ],
   "source": [
    "# Calculate the number of seconds in a day\n",
    "hours_per_day = 24\n",
    "seconds_in_a_day = seconds_per_hour * hours_per_day\n",
    "seconds_in_a_day\n"
   ]
  },
  {
   "cell_type": "markdown",
   "id": "2a45fe25-6035-4997-b671-7df1417184a3",
   "metadata": {
    "jp-MarkdownHeadingCollapsed": true
   },
   "source": [
    "## Section 3.4: Calculate seconds per day again, but this time save the result in a variable called `seconds_per_day`.\n"
   ]
  },
  {
   "cell_type": "code",
   "execution_count": 33,
   "id": "e5bb0620-2e8d-440d-93b9-52e3521e6493",
   "metadata": {},
   "outputs": [
    {
     "data": {
      "text/plain": [
       "86400"
      ]
     },
     "execution_count": 33,
     "metadata": {},
     "output_type": "execute_result"
    }
   ],
   "source": [
    "# Save the result in a variable\n",
    "seconds_per_day = seconds_in_a_day\n",
    "seconds_per_day\n"
   ]
  },
  {
   "cell_type": "markdown",
   "id": "f0198625-3ad2-4242-9970-5059a90e55f3",
   "metadata": {
    "jp-MarkdownHeadingCollapsed": true
   },
   "source": [
    "## Section 3.5: Divide `seconds_per_day` by `seconds_per_hour`. Use floating-point (/) division.\r\n"
   ]
  },
  {
   "cell_type": "code",
   "execution_count": 36,
   "id": "a139bcdb-65fe-4bc4-b6fd-30e936d7a2af",
   "metadata": {},
   "outputs": [
    {
     "data": {
      "text/plain": [
       "24.0"
      ]
     },
     "execution_count": 36,
     "metadata": {},
     "output_type": "execute_result"
    }
   ],
   "source": [
    "# Floating-point division\n",
    "seconds_per_day / seconds_per_hour\n"
   ]
  },
  {
   "cell_type": "markdown",
   "id": "7e5df984-82ad-4816-ba99-0ae913ac114d",
   "metadata": {
    "jp-MarkdownHeadingCollapsed": true
   },
   "source": [
    "## Section 3.6: Divide `seconds_per_day` by `seconds_per_hour`, using integer (//) division. Did this number agree with the floating-point value from the previous question, aside from the final .0?\r\n"
   ]
  },
  {
   "cell_type": "code",
   "execution_count": 39,
   "id": "cc4f2762-a055-4510-be12-7823d1c1f64a",
   "metadata": {},
   "outputs": [
    {
     "data": {
      "text/plain": [
       "24"
      ]
     },
     "execution_count": 39,
     "metadata": {},
     "output_type": "execute_result"
    }
   ],
   "source": [
    "# Integer division\n",
    "seconds_per_day // seconds_per_hour\n"
   ]
  },
  {
   "cell_type": "markdown",
   "id": "2f22e1dd-b5ce-4825-ae54-2f523231903b",
   "metadata": {},
   "source": [
    "### Answer\r\n",
    "Yes, the integer division result agrees with the floating-point division result aside from the final .0.\r\n"
   ]
  }
 ],
 "metadata": {
  "kernelspec": {
   "display_name": "Python 3 (ipykernel)",
   "language": "python",
   "name": "python3"
  },
  "language_info": {
   "codemirror_mode": {
    "name": "ipython",
    "version": 3
   },
   "file_extension": ".py",
   "mimetype": "text/x-python",
   "name": "python",
   "nbconvert_exporter": "python",
   "pygments_lexer": "ipython3",
   "version": "3.11.7"
  }
 },
 "nbformat": 4,
 "nbformat_minor": 5
}
